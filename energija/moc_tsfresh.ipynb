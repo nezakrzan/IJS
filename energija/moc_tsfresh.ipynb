{
 "cells": [
  {
   "cell_type": "code",
   "execution_count": 6,
   "metadata": {},
   "outputs": [],
   "source": [
    "# potrebne knjiznice\n",
    "import pandas as pd\n",
    "import numpy as np\n",
    "import seaborn as sns\n",
    "import matplotlib.pyplot as plt\n",
    "import os\n",
    "import datetime\n",
    "\n",
    "from tsfresh import extract_features, extract_relevant_features, select_features\n",
    "from tsfresh.utilities.dataframe_functions import impute\n",
    "from tsfresh.feature_extraction import ComprehensiveFCParameters\n",
    "from tsfresh.utilities.dataframe_functions import roll_time_series\n",
    "\n",
    "from sklearn.tree import DecisionTreeRegressor\n",
    "from sklearn.metrics import mean_absolute_percentage_error"
   ]
  },
  {
   "cell_type": "markdown",
   "metadata": {},
   "source": [
    "## Uvoz podatkov **SEEDS_TP_A+_A-**"
   ]
  },
  {
   "cell_type": "code",
   "execution_count": 2,
   "metadata": {},
   "outputs": [],
   "source": [
    "# uvoz podatkov\n",
    "data_A = pd.read_csv(\"SEEDS_TP_A+_A-.csv\", index_col=0).iloc[1:,:]\n",
    "data_A = data_A.apply(pd.to_numeric)\n",
    "data_A.index = pd.to_datetime(data_A.index, format=\"%d/%m/%Y %H:%M\")\n",
    "data_A.index = pd.date_range(start=data_A.index[0], periods=len(data_A), freq=\"15T\")\n",
    "\n",
    "# 1 mesec, 2 dni za napoved\n",
    "df = data_A[(data_A[\"TP BENCINSKI SERVIS 3 2781_A+_401\"].index >= \"2023-02-01\") &\n",
    "                (data_A[\"TP BENCINSKI SERVIS 3 2781_A+_401\"].index < \"2023-03-03\")][[\"TP BENCINSKI SERVIS 3 2781_A+_401\"]]\n",
    "df[\"time\"] = df.index\n",
    "df[\"id\"] = 2 # mesec\n",
    "df.columns = [\"moc\", \"time\", \"id\"]"
   ]
  },
  {
   "cell_type": "markdown",
   "metadata": {},
   "source": [
    "## Recursive forecast\n",
    "\n",
    "### tsfresh\n",
    "\n",
    "$\\dots t-4, t-3, t-2, t-1$ za napoved $t+1$\n",
    "\n",
    "$\\dots t-4, t-3, t-2, t-1$ in napovedano $t+1$ za napoved $t+2$"
   ]
  },
  {
   "cell_type": "code",
   "execution_count": 3,
   "metadata": {},
   "outputs": [
    {
     "name": "stderr",
     "output_type": "stream",
     "text": [
      "Rolling: 100%|██████████| 20/20 [00:04<00:00,  4.49it/s]\n",
      "Feature Extraction: 100%|██████████| 20/20 [00:50<00:00,  2.53s/it]\n"
     ]
    }
   ],
   "source": [
    "# train/test split\n",
    "data_train = df[:len(df)-4*24*2]\n",
    "data_test = df[-4*24*2:]\n",
    "\n",
    "# target split\n",
    "y_train = data_train.moc.shift(-1)\n",
    "y_train.dropna(inplace = True)\n",
    "\n",
    "# features for training data, max and min window sizes are equal -> 4*24 = 1 day \n",
    "data_rolled = roll_time_series(data_train, column_id=\"id\", column_sort=\"time\", max_timeshift=4*24, min_timeshift=4*24)\n",
    "features_train = extract_features(data_rolled, column_id=\"id\", column_sort=\"time\", column_value=\"moc\")\n",
    "features_train.index = features_train.index.map(lambda x: x[1])\n",
    "features_train_selected = features_train.drop(columns=features_train.columns[features_train.isna().sum() != 0]) # one feature has only NAs\n",
    "\n",
    "# target in features indeksi\n",
    "y_train = y_train[y_train.index.isin(features_train_selected.index)]\n",
    "features_train_selected = features_train_selected[features_train_selected.index.isin(y_train.index)]\n",
    "\n",
    "# feature selection with tsfresh\n",
    "features_train_selected = select_features(features_train_selected, y_train)"
   ]
  },
  {
   "cell_type": "markdown",
   "metadata": {},
   "source": [
    "## Decision Tree Regressor"
   ]
  },
  {
   "cell_type": "code",
   "execution_count": null,
   "metadata": {},
   "outputs": [],
   "source": [
    "# Recursive forecast for next 2 days\n",
    "\n",
    "# fit model na 2023-02-02 00:15:00 to 2023-02-28 23:30:00\n",
    "model = DecisionTreeRegressor(random_state=42).fit(features_train_selected, y_train)\n",
    "\n",
    "...."
   ]
  }
 ],
 "metadata": {
  "kernelspec": {
   "display_name": "Python 3",
   "language": "python",
   "name": "python3"
  },
  "language_info": {
   "codemirror_mode": {
    "name": "ipython",
    "version": 3
   },
   "file_extension": ".py",
   "mimetype": "text/x-python",
   "name": "python",
   "nbconvert_exporter": "python",
   "pygments_lexer": "ipython3",
   "version": "3.9.6"
  }
 },
 "nbformat": 4,
 "nbformat_minor": 2
}
