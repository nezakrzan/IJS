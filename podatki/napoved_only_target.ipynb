{
 "cells": [
  {
   "cell_type": "code",
   "execution_count": 1,
   "metadata": {},
   "outputs": [
    {
     "name": "stderr",
     "output_type": "stream",
     "text": [
      "/Users/nezakrzan/Library/Python/3.9/lib/python/site-packages/urllib3/__init__.py:34: NotOpenSSLWarning: urllib3 v2 only supports OpenSSL 1.1.1+, currently the 'ssl' module is compiled with 'LibreSSL 2.8.3'. See: https://github.com/urllib3/urllib3/issues/3020\n",
      "  warnings.warn(\n"
     ]
    }
   ],
   "source": [
    "import numpy as np\n",
    "import pandas as pd\n",
    "import matplotlib.pylab as plt\n",
    "import matplotlib as mpl\n",
    "import seaborn as sns \n",
    "from datetime import datetime\n",
    "\n",
    "from pmdarima import auto_arima\n",
    "from sklearn.preprocessing import StandardScaler, MinMaxScaler\n",
    "from sklearn.metrics import mean_squared_error\n",
    "import math\n",
    "\n",
    "from keras.models import Sequential\n",
    "from keras.layers import Dense, LSTM, Dropout\n",
    "from keras.preprocessing.sequence import TimeseriesGenerator\n",
    "\n",
    "from functions import *\n"
   ]
  },
  {
   "cell_type": "code",
   "execution_count": 2,
   "metadata": {},
   "outputs": [],
   "source": [
    "vse_samodejne = read_txt('VSE SAMODEJNE 2022.txt')\n",
    "\n",
    "# sunek vetra\n",
    "df = vse_samodejne.loc[vse_samodejne[\"sunki vetra [m/s]\"] == 999.0, \"sunki vetra [m/s]\"] = np.nan\n",
    "df = vse_samodejne.astype({'sunki vetra [m/s]':'float'})\n",
    "\n",
    "# negativno globalno sevanje\n",
    "df.loc[vse_samodejne['globalno sev. [W/m2]'] < 0, 'globalno sev. [W/m2]']= np.nan\n",
    "\n",
    "# postaje, ki imajo podatek za difuzno sevanje\n",
    "df = df[~df['difuzno sev. [W/m2]'].isna()]\n",
    "\n",
    "# preimenujem difuzno sevanje in valid\n",
    "df = df.rename(columns={'difuzno sev. [W/m2]': 'DF', ' valid': 'date'})"
   ]
  },
  {
   "cell_type": "code",
   "execution_count": 3,
   "metadata": {},
   "outputs": [],
   "source": [
    "# postaja CELJE - nima difuznega sevanja\n",
    "data = df[df[' station name'] == \"ROGLA\"]\n",
    "data = data.dropna(axis=1)\n",
    "\n",
    "#data.reset_index(inplace = True)\n",
    "data[\"date\"] = pd.to_datetime(data[\"date\"])\n",
    "data = data.set_index(\"date\")\n",
    "\n",
    "target = data.loc[:,[\"DF\"]]\n",
    "\n",
    "del data[\" station name\"], data[\"station id\"], data[\"DF\"]\n"
   ]
  },
  {
   "cell_type": "markdown",
   "metadata": {},
   "source": [
    "## 1. Only target feature - LSTM"
   ]
  },
  {
   "cell_type": "code",
   "execution_count": 4,
   "metadata": {},
   "outputs": [],
   "source": [
    "# convert series to supervised learning\n",
    "def data_preparation(data, window=1, look_forward=1, dropnan=True):\n",
    "    # window = okno(pogledas nazaj)\n",
    "    # look_forward = pogled naprej\n",
    "\n",
    "    df = pd.DataFrame(data)\n",
    "    cols, names = list(), list()\n",
    "\n",
    "    # Input sequence (t-n, ... t-1)\n",
    "    for i in range(window, 0, -1):\n",
    "        cols.append(df.shift(i))\n",
    "        names += [('var%d(t-%d)' % (j+1, i)) for j in range(data.shape[1])]\n",
    "        # forecast sequence (t, t+1, ... t+n)\n",
    "    \n",
    "    # current timestep (t=0)\n",
    "    for i in range(0, look_forward):\n",
    "        cols.append(df.shift(-i))\n",
    "        if i == 0:\n",
    "            names += [('var%d(t)' % (j+1)) for j in range(data.shape[1])]\n",
    "        else:\n",
    "            names += [('var%d(t+%d)' % (j+1, i)) for j in range(data.shape[1])]\n",
    "    \n",
    "    # put it all together\n",
    "    agg = pd.concat(cols, axis=1)\n",
    "    agg.columns = names\n",
    "    \n",
    "    # drop rows with NaN values\n",
    "    if dropnan:\n",
    "        agg.dropna(inplace=True)\n",
    "    return agg.iloc[:,:data.shape[1] * window], agg.iloc[:,[agg.shape[1] - 1]]\n",
    "\n"
   ]
  },
  {
   "cell_type": "markdown",
   "metadata": {},
   "source": [
    "### 1.1. Data preparation"
   ]
  },
  {
   "cell_type": "code",
   "execution_count": 5,
   "metadata": {},
   "outputs": [
    {
     "data": {
      "text/plain": [
       "((12216, 48, 1), (3504, 48, 1), (1752, 48, 1))"
      ]
     },
     "execution_count": 5,
     "metadata": {},
     "output_type": "execute_result"
    }
   ],
   "source": [
    "# data preparation\n",
    "\n",
    "# split data\n",
    "look_back = 48\n",
    "target_train = data.iloc[:int(len(data) * 0.7),data.shape[1] - 1].values\n",
    "target_val = data.iloc[(int(len(data) * 0.7) - look_back):int(len(data) * 0.9),data.shape[1] - 1].values\n",
    "target_test = data.iloc[(int(len(data) * 0.9) - look_back):,data.shape[1] - 1].values\n",
    "\n",
    "# scale data\n",
    "scaler = StandardScaler().fit(target_train.reshape(-1,1))\n",
    "target_train = scaler.transform(target_train.reshape(-1,1))\n",
    "target_val = scaler.transform(target_val.reshape(-1,1))\n",
    "target_test = scaler.transform(target_test.reshape(-1,1))\n",
    "\n",
    "# train, target\n",
    "x_train,  y_train = data_preparation(target_train, look_back)\n",
    "x_val,  y_val = data_preparation(target_val, look_back)\n",
    "x_test,  y_test = data_preparation(target_test, look_back)\n",
    "x_train.shape, x_val.shape, x_test.shape\n",
    "\n",
    "# reshape\n",
    "x_train = np.reshape(x_train.values, (x_train.shape[0], x_train.shape[1], 1))\n",
    "x_val = np.reshape(x_val.values, (x_val.shape[0], x_val.shape[1], 1))\n",
    "x_test = np.reshape(x_test.values, (x_test.shape[0], x_test.shape[1], 1))\n",
    "x_train.shape, x_val.shape, x_test.shape"
   ]
  },
  {
   "cell_type": "markdown",
   "metadata": {},
   "source": [
    "### 1.2. LSTM model"
   ]
  },
  {
   "cell_type": "code",
   "execution_count": 6,
   "metadata": {},
   "outputs": [
    {
     "name": "stdout",
     "output_type": "stream",
     "text": [
      "Model: \"LSTM\"\n",
      "_________________________________________________________________\n",
      " Layer (type)                Output Shape              Param #   \n",
      "=================================================================\n",
      " lstm (LSTM)                 (None, 48, 128)           66560     \n",
      "                                                                 \n",
      " dropout (Dropout)           (None, 48, 128)           0         \n",
      "                                                                 \n",
      " lstm_1 (LSTM)               (None, 48, 64)            49408     \n",
      "                                                                 \n",
      " dropout_1 (Dropout)         (None, 48, 64)            0         \n",
      "                                                                 \n",
      " lstm_2 (LSTM)               (None, 32)                12416     \n",
      "                                                                 \n",
      " dropout_2 (Dropout)         (None, 32)                0         \n",
      "                                                                 \n",
      " dense (Dense)               (None, 1)                 33        \n",
      "                                                                 \n",
      "=================================================================\n",
      "Total params: 128417 (501.63 KB)\n",
      "Trainable params: 128417 (501.63 KB)\n",
      "Non-trainable params: 0 (0.00 Byte)\n",
      "_________________________________________________________________\n"
     ]
    }
   ],
   "source": [
    "# build the LSTM model\n",
    "regression = Sequential(name = 'LSTM')\n",
    "\n",
    "regression.add(LSTM(128, return_sequences=True, input_shape=(x_train.shape[1], 1)))\n",
    "regression.add(Dropout(0.5))\n",
    "\n",
    "regression.add(LSTM(64, return_sequences=True))\n",
    "regression.add(Dropout(0.5))\n",
    "\n",
    "regression.add(LSTM(32, return_sequences=False))\n",
    "regression.add(Dropout(0.5))\n",
    "\n",
    "regression.add(Dense(1))\n",
    "\n",
    "# compile the regression\n",
    "regression.compile(optimizer='adam', loss='mean_squared_error')\n",
    "\n",
    "regression.summary()"
   ]
  },
  {
   "cell_type": "code",
   "execution_count": 7,
   "metadata": {},
   "outputs": [
    {
     "name": "stdout",
     "output_type": "stream",
     "text": [
      "Epoch 1/50\n",
      "96/96 [==============================] - 17s 146ms/step - loss: 0.3169 - val_loss: 0.0669\n",
      "Epoch 2/50\n",
      "96/96 [==============================] - 15s 152ms/step - loss: 0.1835 - val_loss: 0.0491\n",
      "Epoch 3/50\n",
      "96/96 [==============================] - 15s 154ms/step - loss: 0.1580 - val_loss: 0.0346\n",
      "Epoch 4/50\n",
      "96/96 [==============================] - 14s 147ms/step - loss: 0.1391 - val_loss: 0.0287\n",
      "Epoch 5/50\n",
      "96/96 [==============================] - 14s 148ms/step - loss: 0.1321 - val_loss: 0.0266\n",
      "Epoch 6/50\n",
      "96/96 [==============================] - 14s 147ms/step - loss: 0.1255 - val_loss: 0.0244\n",
      "Epoch 7/50\n",
      "96/96 [==============================] - 14s 148ms/step - loss: 0.1113 - val_loss: 0.0235\n",
      "Epoch 8/50\n",
      "96/96 [==============================] - 15s 152ms/step - loss: 0.1147 - val_loss: 0.0190\n",
      "Epoch 9/50\n",
      "96/96 [==============================] - 15s 157ms/step - loss: 0.1110 - val_loss: 0.0198\n",
      "Epoch 10/50\n",
      "96/96 [==============================] - 15s 157ms/step - loss: 0.1091 - val_loss: 0.0185\n",
      "Epoch 11/50\n",
      "96/96 [==============================] - 15s 157ms/step - loss: 0.1112 - val_loss: 0.0175\n",
      "Epoch 12/50\n",
      "96/96 [==============================] - 15s 157ms/step - loss: 0.1076 - val_loss: 0.0179\n",
      "Epoch 13/50\n",
      "96/96 [==============================] - 15s 157ms/step - loss: 0.1058 - val_loss: 0.0260\n",
      "Epoch 14/50\n",
      "96/96 [==============================] - 15s 158ms/step - loss: 0.1081 - val_loss: 0.0196\n",
      "Epoch 15/50\n",
      "96/96 [==============================] - 15s 157ms/step - loss: 0.1041 - val_loss: 0.0163\n",
      "Epoch 16/50\n",
      "96/96 [==============================] - 15s 159ms/step - loss: 0.0999 - val_loss: 0.0192\n",
      "Epoch 17/50\n",
      "96/96 [==============================] - 15s 158ms/step - loss: 0.1051 - val_loss: 0.0158\n",
      "Epoch 18/50\n",
      "96/96 [==============================] - 15s 158ms/step - loss: 0.1006 - val_loss: 0.0162\n",
      "Epoch 19/50\n",
      "96/96 [==============================] - 15s 158ms/step - loss: 0.0998 - val_loss: 0.0180\n",
      "Epoch 20/50\n",
      "96/96 [==============================] - 15s 154ms/step - loss: 0.1031 - val_loss: 0.0170\n",
      "Epoch 21/50\n",
      "96/96 [==============================] - 14s 149ms/step - loss: 0.1013 - val_loss: 0.0164\n",
      "Epoch 22/50\n",
      "96/96 [==============================] - 14s 149ms/step - loss: 0.1005 - val_loss: 0.0188\n",
      "Epoch 23/50\n",
      "96/96 [==============================] - 15s 158ms/step - loss: 0.1021 - val_loss: 0.0153\n",
      "Epoch 24/50\n",
      "96/96 [==============================] - 15s 159ms/step - loss: 0.1027 - val_loss: 0.0157\n",
      "Epoch 25/50\n",
      "96/96 [==============================] - 15s 159ms/step - loss: 0.1019 - val_loss: 0.0160\n",
      "Epoch 26/50\n",
      "96/96 [==============================] - 15s 159ms/step - loss: 0.0981 - val_loss: 0.0160\n",
      "Epoch 27/50\n",
      "96/96 [==============================] - 15s 158ms/step - loss: 0.0994 - val_loss: 0.0162\n",
      "Epoch 28/50\n",
      "96/96 [==============================] - 15s 158ms/step - loss: 0.1016 - val_loss: 0.0201\n",
      "Epoch 29/50\n",
      "96/96 [==============================] - 15s 159ms/step - loss: 0.0979 - val_loss: 0.0157\n",
      "Epoch 30/50\n",
      "96/96 [==============================] - 15s 158ms/step - loss: 0.0943 - val_loss: 0.0147\n",
      "Epoch 31/50\n",
      "96/96 [==============================] - 15s 159ms/step - loss: 0.0985 - val_loss: 0.0150\n",
      "Epoch 32/50\n",
      "96/96 [==============================] - 15s 159ms/step - loss: 0.0995 - val_loss: 0.0168\n",
      "Epoch 33/50\n",
      "96/96 [==============================] - 15s 158ms/step - loss: 0.0994 - val_loss: 0.0149\n",
      "Epoch 34/50\n",
      "96/96 [==============================] - 15s 159ms/step - loss: 0.0952 - val_loss: 0.0157\n",
      "Epoch 35/50\n",
      "96/96 [==============================] - 15s 159ms/step - loss: 0.0969 - val_loss: 0.0178\n",
      "Epoch 36/50\n",
      "96/96 [==============================] - 15s 159ms/step - loss: 0.0998 - val_loss: 0.0153\n",
      "Epoch 37/50\n",
      "96/96 [==============================] - 15s 159ms/step - loss: 0.0936 - val_loss: 0.0164\n",
      "Epoch 38/50\n",
      "96/96 [==============================] - 15s 159ms/step - loss: 0.0990 - val_loss: 0.0146\n",
      "Epoch 39/50\n",
      "96/96 [==============================] - 15s 159ms/step - loss: 0.0950 - val_loss: 0.0163\n",
      "Epoch 40/50\n",
      "96/96 [==============================] - 16s 163ms/step - loss: 0.0971 - val_loss: 0.0145\n",
      "Epoch 41/50\n",
      "96/96 [==============================] - 14s 151ms/step - loss: 0.0954 - val_loss: 0.0161\n",
      "Epoch 42/50\n",
      "96/96 [==============================] - 14s 149ms/step - loss: 0.0972 - val_loss: 0.0159\n",
      "Epoch 43/50\n",
      "96/96 [==============================] - 14s 148ms/step - loss: 0.0998 - val_loss: 0.0143\n",
      "Epoch 44/50\n",
      "96/96 [==============================] - 14s 149ms/step - loss: 0.0959 - val_loss: 0.0149\n",
      "Epoch 45/50\n",
      "96/96 [==============================] - 14s 149ms/step - loss: 0.0983 - val_loss: 0.0172\n",
      "Epoch 46/50\n",
      "96/96 [==============================] - 14s 150ms/step - loss: 0.0960 - val_loss: 0.0155\n",
      "Epoch 47/50\n",
      "96/96 [==============================] - 14s 149ms/step - loss: 0.1004 - val_loss: 0.0147\n",
      "Epoch 48/50\n",
      "96/96 [==============================] - 14s 150ms/step - loss: 0.0968 - val_loss: 0.0148\n",
      "Epoch 49/50\n",
      "96/96 [==============================] - 14s 150ms/step - loss: 0.0927 - val_loss: 0.0164\n",
      "Epoch 50/50\n",
      "96/96 [==============================] - 14s 150ms/step - loss: 0.0940 - val_loss: 0.0154\n"
     ]
    }
   ],
   "source": [
    "# train the model\n",
    "lstm1 = regression.fit(x_train, y_train, batch_size=128, epochs=50, validation_data=(x_val, y_val), verbose=1)"
   ]
  },
  {
   "cell_type": "code",
   "execution_count": 8,
   "metadata": {},
   "outputs": [
    {
     "name": "stdout",
     "output_type": "stream",
     "text": [
      "55/55 [==============================] - 2s 19ms/step\n",
      "LSTM rmse = 0.0226\n"
     ]
    }
   ],
   "source": [
    "y_test_sc = scaler.inverse_transform(y_test)\n",
    "predicted = regression.predict(x_test)\n",
    "predicted_df = scaler.inverse_transform(predicted)\n",
    "print(f'LSTM rmse = {math.sqrt(mean_squared_error(y_test_sc, predicted_df)):.4f}')"
   ]
  },
  {
   "cell_type": "markdown",
   "metadata": {},
   "source": [
    "### 1.3. Plot the predictions"
   ]
  },
  {
   "cell_type": "code",
   "execution_count": 9,
   "metadata": {},
   "outputs": [
    {
     "data": {
      "text/plain": [
       "<matplotlib.legend.Legend at 0x2960b03d0>"
      ]
     },
     "execution_count": 9,
     "metadata": {},
     "output_type": "execute_result"
    },
    {
     "data": {
      "image/png": "[encoded data removed]",
      "text/plain": [
       "<Figure size 1500x500 with 1 Axes>"
      ]
     },
     "metadata": {},
     "output_type": "display_data"
    }
   ],
   "source": [
    "df_plot = pd.DataFrame({\n",
    "    \"time\" : data.iloc[int(len(data) * 0.9):len(data),].index,\n",
    "    \"target_true\" : y_test_sc.squeeze(),\n",
    "    \"target_pred\" : predicted_df.squeeze()\n",
    "})\n",
    "\n",
    "fig, ax = plt.subplots(figsize=(15, 5))\n",
    "\n",
    "ax.plot(df_plot[\"time\"], df_plot[\"target_true\"], color = \"blue\", label = 'Target-True')\n",
    "ax.plot(df_plot[\"time\"], df_plot[\"target_pred\"], color = \"red\", label = 'Target-Prediction')\n",
    "plt.legend()"
   ]
  },
  {
   "cell_type": "code",
   "execution_count": 10,
   "metadata": {},
   "outputs": [
    {
     "data": {
      "text/html": [
       "<div>\n",
       "<style scoped>\n",
       "    .dataframe tbody tr th:only-of-type {\n",
       "        vertical-align: middle;\n",
       "    }\n",
       "\n",
       "    .dataframe tbody tr th {\n",
       "        vertical-align: top;\n",
       "    }\n",
       "\n",
       "    .dataframe thead th {\n",
       "        text-align: right;\n",
       "    }\n",
       "</style>\n",
       "<table border=\"1\" class=\"dataframe\">\n",
       "  <thead>\n",
       "    <tr style=\"text-align: right;\">\n",
       "      <th></th>\n",
       "      <th>time</th>\n",
       "      <th>target_true</th>\n",
       "      <th>target_pred</th>\n",
       "    </tr>\n",
       "  </thead>\n",
       "  <tbody>\n",
       "    <tr>\n",
       "      <th>0</th>\n",
       "      <td>2022-11-25 12:00:00</td>\n",
       "      <td>0.2</td>\n",
       "      <td>0.212889</td>\n",
       "    </tr>\n",
       "    <tr>\n",
       "      <th>1</th>\n",
       "      <td>2022-11-25 12:30:00</td>\n",
       "      <td>0.2</td>\n",
       "      <td>0.193984</td>\n",
       "    </tr>\n",
       "    <tr>\n",
       "      <th>2</th>\n",
       "      <td>2022-11-25 13:00:00</td>\n",
       "      <td>0.2</td>\n",
       "      <td>0.176838</td>\n",
       "    </tr>\n",
       "    <tr>\n",
       "      <th>3</th>\n",
       "      <td>2022-11-25 13:30:00</td>\n",
       "      <td>0.2</td>\n",
       "      <td>0.161802</td>\n",
       "    </tr>\n",
       "    <tr>\n",
       "      <th>4</th>\n",
       "      <td>2022-11-25 14:00:00</td>\n",
       "      <td>0.1</td>\n",
       "      <td>0.147776</td>\n",
       "    </tr>\n",
       "    <tr>\n",
       "      <th>...</th>\n",
       "      <td>...</td>\n",
       "      <td>...</td>\n",
       "      <td>...</td>\n",
       "    </tr>\n",
       "    <tr>\n",
       "      <th>1747</th>\n",
       "      <td>2022-12-31 21:30:00</td>\n",
       "      <td>0.0</td>\n",
       "      <td>0.000857</td>\n",
       "    </tr>\n",
       "    <tr>\n",
       "      <th>1748</th>\n",
       "      <td>2022-12-31 22:00:00</td>\n",
       "      <td>0.0</td>\n",
       "      <td>0.000856</td>\n",
       "    </tr>\n",
       "    <tr>\n",
       "      <th>1749</th>\n",
       "      <td>2022-12-31 22:30:00</td>\n",
       "      <td>0.0</td>\n",
       "      <td>0.000934</td>\n",
       "    </tr>\n",
       "    <tr>\n",
       "      <th>1750</th>\n",
       "      <td>2022-12-31 23:00:00</td>\n",
       "      <td>0.0</td>\n",
       "      <td>0.001051</td>\n",
       "    </tr>\n",
       "    <tr>\n",
       "      <th>1751</th>\n",
       "      <td>2022-12-31 23:30:00</td>\n",
       "      <td>0.0</td>\n",
       "      <td>0.001186</td>\n",
       "    </tr>\n",
       "  </tbody>\n",
       "</table>\n",
       "<p>1752 rows × 3 columns</p>\n",
       "</div>"
      ],
      "text/plain": [
       "                    time  target_true  target_pred\n",
       "0    2022-11-25 12:00:00          0.2     0.212889\n",
       "1    2022-11-25 12:30:00          0.2     0.193984\n",
       "2    2022-11-25 13:00:00          0.2     0.176838\n",
       "3    2022-11-25 13:30:00          0.2     0.161802\n",
       "4    2022-11-25 14:00:00          0.1     0.147776\n",
       "...                  ...          ...          ...\n",
       "1747 2022-12-31 21:30:00          0.0     0.000857\n",
       "1748 2022-12-31 22:00:00          0.0     0.000856\n",
       "1749 2022-12-31 22:30:00          0.0     0.000934\n",
       "1750 2022-12-31 23:00:00          0.0     0.001051\n",
       "1751 2022-12-31 23:30:00          0.0     0.001186\n",
       "\n",
       "[1752 rows x 3 columns]"
      ]
     },
     "execution_count": 10,
     "metadata": {},
     "output_type": "execute_result"
    }
   ],
   "source": [
    "df_plot"
   ]
  },
  {
   "cell_type": "markdown",
   "metadata": {},
   "source": [
    "## 2. LSTM multivariable"
   ]
  },
  {
   "cell_type": "markdown",
   "metadata": {},
   "source": [
    "### 2.1. TimeseriesGenerator"
   ]
  },
  {
   "cell_type": "code",
   "execution_count": 11,
   "metadata": {},
   "outputs": [
    {
     "data": {
      "text/plain": [
       "array([[ 9.1,  9.3,  9.1, ...,  6.8,  0. ,  0. ],\n",
       "       [ 8.8,  8.8,  8.8, ...,  7.7,  0. ,  0. ],\n",
       "       [10. ,  9.5,  9.3, ..., 14.4,  0. ,  0. ],\n",
       "       ...,\n",
       "       [ 6.7,  6.4,  6. , ...,  7.6,  0. ,  0. ],\n",
       "       [ 4.3,  4.9,  4.3, ...,  7.7,  0. ,  0. ],\n",
       "       [ 4.9,  5.2,  4.8, ...,  8.8,  0. ,  0. ]])"
      ]
     },
     "execution_count": 11,
     "metadata": {},
     "output_type": "execute_result"
    }
   ],
   "source": [
    "data = data.values\n",
    "data"
   ]
  },
  {
   "cell_type": "code",
   "execution_count": 12,
   "metadata": {},
   "outputs": [
    {
     "data": {
      "text/plain": [
       "array([[0.],\n",
       "       [0.],\n",
       "       [0.],\n",
       "       ...,\n",
       "       [0.],\n",
       "       [0.],\n",
       "       [0.]])"
      ]
     },
     "execution_count": 12,
     "metadata": {},
     "output_type": "execute_result"
    }
   ],
   "source": [
    "target = target.values\n",
    "target"
   ]
  },
  {
   "cell_type": "code",
   "execution_count": 13,
   "metadata": {},
   "outputs": [],
   "source": [
    "# normalize the dataset\n",
    "scaler = StandardScaler()\n",
    "scaler.fit_transform(target)\n",
    "#data_x= scaler.transform(data)\n",
    "data_y = scaler.transform(target)"
   ]
  },
  {
   "cell_type": "code",
   "execution_count": 14,
   "metadata": {},
   "outputs": [],
   "source": [
    "# split into train and test sets\n",
    "train_size = int(len(data) * 0.7)\n",
    "test_size = len(data) - train_size\n",
    "train_x, test_x = data[0:train_size,:], data[train_size:len(data),:]\n",
    "train_y, test_y = data_y[0:train_size,:], data_y[train_size:len(data_y),:]"
   ]
  },
  {
   "cell_type": "code",
   "execution_count": 15,
   "metadata": {},
   "outputs": [],
   "source": [
    "look_back = 48 "
   ]
  },
  {
   "cell_type": "code",
   "execution_count": 16,
   "metadata": {},
   "outputs": [],
   "source": [
    "train_data_gen = TimeseriesGenerator(train_x, train_y,\n",
    "                                     length=look_back, sampling_rate=1, stride=1,\n",
    "                                     batch_size=128)"
   ]
  },
  {
   "cell_type": "code",
   "execution_count": 17,
   "metadata": {},
   "outputs": [],
   "source": [
    "test_data_gen = TimeseriesGenerator(test_x, test_y,\n",
    "                                    length=look_back, sampling_rate=1,stride=1,\n",
    "                                    batch_size=1)"
   ]
  },
  {
   "cell_type": "markdown",
   "metadata": {},
   "source": [
    "### 2.2. LSTM model"
   ]
  },
  {
   "cell_type": "code",
   "execution_count": 18,
   "metadata": {},
   "outputs": [
    {
     "name": "stdout",
     "output_type": "stream",
     "text": [
      "Model: \"LSTM\"\n",
      "_________________________________________________________________\n",
      " Layer (type)                Output Shape              Param #   \n",
      "=================================================================\n",
      " lstm_3 (LSTM)               (None, 48, 128)           73216     \n",
      "                                                                 \n",
      " dropout_3 (Dropout)         (None, 48, 128)           0         \n",
      "                                                                 \n",
      " lstm_4 (LSTM)               (None, 48, 64)            49408     \n",
      "                                                                 \n",
      " dropout_4 (Dropout)         (None, 48, 64)            0         \n",
      "                                                                 \n",
      " lstm_5 (LSTM)               (None, 32)                12416     \n",
      "                                                                 \n",
      " dropout_5 (Dropout)         (None, 32)                0         \n",
      "                                                                 \n",
      " dense_1 (Dense)             (None, 1)                 33        \n",
      "                                                                 \n",
      "=================================================================\n",
      "Total params: 135073 (527.63 KB)\n",
      "Trainable params: 135073 (527.63 KB)\n",
      "Non-trainable params: 0 (0.00 Byte)\n",
      "_________________________________________________________________\n"
     ]
    }
   ],
   "source": [
    "# build the LSTM model\n",
    "regression = Sequential(name = 'LSTM')\n",
    "\n",
    "regression.add(LSTM(128, return_sequences=True, input_shape=(look_back, train_x.shape[1])))\n",
    "regression.add(Dropout(0.5))\n",
    "\n",
    "regression.add(LSTM(64, return_sequences=True))\n",
    "regression.add(Dropout(0.5))\n",
    "\n",
    "regression.add(LSTM(32, return_sequences=False))\n",
    "regression.add(Dropout(0.5))\n",
    "\n",
    "regression.add(Dense(1))\n",
    "\n",
    "# compile the regression\n",
    "regression.compile(optimizer='adam', loss='mean_squared_error')\n",
    "\n",
    "regression.summary()"
   ]
  },
  {
   "cell_type": "code",
   "execution_count": 19,
   "metadata": {},
   "outputs": [
    {
     "name": "stdout",
     "output_type": "stream",
     "text": [
      "Epoch 1/100\n"
     ]
    },
    {
     "name": "stdout",
     "output_type": "stream",
     "text": [
      "96/96 [==============================] - 15s 132ms/step - loss: 0.7010\n",
      "Epoch 2/100\n",
      "96/96 [==============================] - 13s 136ms/step - loss: 0.5330\n",
      "Epoch 3/100\n",
      "96/96 [==============================] - 13s 136ms/step - loss: 0.5233\n",
      "Epoch 4/100\n",
      "96/96 [==============================] - 13s 137ms/step - loss: 0.4641\n",
      "Epoch 5/100\n",
      "96/96 [==============================] - 13s 137ms/step - loss: 0.4590\n",
      "Epoch 6/100\n",
      "96/96 [==============================] - 13s 137ms/step - loss: 0.4397\n",
      "Epoch 7/100\n",
      "96/96 [==============================] - 14s 146ms/step - loss: 0.4332\n",
      "Epoch 8/100\n",
      "96/96 [==============================] - 14s 150ms/step - loss: 0.4120\n",
      "Epoch 9/100\n",
      "96/96 [==============================] - 14s 144ms/step - loss: 0.3947\n",
      "Epoch 10/100\n",
      "96/96 [==============================] - 13s 138ms/step - loss: 0.3920\n",
      "Epoch 11/100\n",
      "96/96 [==============================] - 13s 134ms/step - loss: 0.3839\n",
      "Epoch 12/100\n",
      "96/96 [==============================] - 13s 134ms/step - loss: 0.3759\n",
      "Epoch 13/100\n",
      "96/96 [==============================] - 13s 135ms/step - loss: 0.3769\n",
      "Epoch 14/100\n",
      "96/96 [==============================] - 13s 140ms/step - loss: 0.3682\n",
      "Epoch 15/100\n",
      "96/96 [==============================] - 13s 135ms/step - loss: 0.3689\n",
      "Epoch 16/100\n",
      "96/96 [==============================] - 13s 138ms/step - loss: 0.3679\n",
      "Epoch 17/100\n",
      "96/96 [==============================] - 13s 139ms/step - loss: 0.3465\n",
      "Epoch 18/100\n",
      "96/96 [==============================] - 13s 131ms/step - loss: 0.3423\n",
      "Epoch 19/100\n",
      "96/96 [==============================] - 13s 135ms/step - loss: 0.3396\n",
      "Epoch 20/100\n",
      "96/96 [==============================] - 13s 136ms/step - loss: 0.3370\n",
      "Epoch 21/100\n",
      "96/96 [==============================] - 13s 134ms/step - loss: 0.3277\n",
      "Epoch 22/100\n",
      "96/96 [==============================] - 13s 135ms/step - loss: 0.3265\n",
      "Epoch 23/100\n",
      "96/96 [==============================] - 13s 134ms/step - loss: 0.3316\n",
      "Epoch 24/100\n",
      "96/96 [==============================] - 13s 136ms/step - loss: 0.3198\n",
      "Epoch 25/100\n",
      "96/96 [==============================] - 13s 136ms/step - loss: 0.3238\n",
      "Epoch 26/100\n",
      "96/96 [==============================] - 13s 136ms/step - loss: 0.3303\n",
      "Epoch 27/100\n",
      "96/96 [==============================] - 13s 132ms/step - loss: 0.3293\n",
      "Epoch 28/100\n",
      "96/96 [==============================] - 13s 133ms/step - loss: 0.3134\n",
      "Epoch 29/100\n",
      "96/96 [==============================] - 13s 134ms/step - loss: 0.3122\n",
      "Epoch 30/100\n",
      "96/96 [==============================] - 13s 134ms/step - loss: 0.3008\n",
      "Epoch 31/100\n",
      "96/96 [==============================] - 13s 134ms/step - loss: 0.2945\n",
      "Epoch 32/100\n",
      "96/96 [==============================] - 13s 134ms/step - loss: 0.3058\n",
      "Epoch 33/100\n",
      "96/96 [==============================] - 13s 134ms/step - loss: 0.2944\n",
      "Epoch 34/100\n",
      "96/96 [==============================] - 13s 135ms/step - loss: 0.2954\n",
      "Epoch 35/100\n",
      "96/96 [==============================] - 13s 134ms/step - loss: 0.3024\n",
      "Epoch 36/100\n",
      "96/96 [==============================] - 13s 135ms/step - loss: 0.2978\n",
      "Epoch 37/100\n",
      "96/96 [==============================] - 13s 135ms/step - loss: 0.2814\n",
      "Epoch 38/100\n",
      "96/96 [==============================] - 13s 135ms/step - loss: 0.2889\n",
      "Epoch 39/100\n",
      "96/96 [==============================] - 507s 5s/step - loss: 0.2833\n",
      "Epoch 40/100\n",
      "96/96 [==============================] - 15s 152ms/step - loss: 0.2767\n",
      "Epoch 41/100\n",
      "96/96 [==============================] - 15s 156ms/step - loss: 0.2743\n",
      "Epoch 42/100\n",
      "96/96 [==============================] - 15s 151ms/step - loss: 0.2720\n",
      "Epoch 43/100\n",
      "96/96 [==============================] - 13s 137ms/step - loss: 0.2838\n",
      "Epoch 44/100\n",
      "96/96 [==============================] - 13s 136ms/step - loss: 0.2745\n",
      "Epoch 45/100\n",
      "96/96 [==============================] - 13s 136ms/step - loss: 0.2832\n",
      "Epoch 46/100\n",
      "96/96 [==============================] - 13s 137ms/step - loss: 0.2810\n",
      "Epoch 47/100\n",
      "96/96 [==============================] - 13s 137ms/step - loss: 0.2652\n",
      "Epoch 48/100\n",
      "96/96 [==============================] - 13s 138ms/step - loss: 0.2700\n",
      "Epoch 49/100\n",
      "96/96 [==============================] - 13s 138ms/step - loss: 0.2629\n",
      "Epoch 50/100\n",
      "96/96 [==============================] - 13s 139ms/step - loss: 0.2734\n",
      "Epoch 51/100\n",
      "96/96 [==============================] - 13s 139ms/step - loss: 0.2596\n",
      "Epoch 52/100\n",
      "96/96 [==============================] - 13s 140ms/step - loss: 0.2759\n",
      "Epoch 53/100\n",
      "96/96 [==============================] - 13s 140ms/step - loss: 0.2796\n",
      "Epoch 54/100\n",
      "96/96 [==============================] - 13s 139ms/step - loss: 0.2749\n",
      "Epoch 55/100\n",
      "96/96 [==============================] - 13s 140ms/step - loss: 0.2569\n",
      "Epoch 56/100\n",
      "96/96 [==============================] - 13s 140ms/step - loss: 0.2679\n",
      "Epoch 57/100\n",
      "96/96 [==============================] - 13s 139ms/step - loss: 0.2604\n",
      "Epoch 58/100\n",
      "96/96 [==============================] - 14s 141ms/step - loss: 0.2582\n",
      "Epoch 59/100\n",
      "96/96 [==============================] - 14s 141ms/step - loss: 0.2520\n",
      "Epoch 60/100\n",
      "96/96 [==============================] - 14s 142ms/step - loss: 0.2601\n",
      "Epoch 61/100\n",
      "96/96 [==============================] - 14s 142ms/step - loss: 0.2496\n",
      "Epoch 62/100\n",
      "96/96 [==============================] - 14s 142ms/step - loss: 0.2521\n",
      "Epoch 63/100\n",
      "96/96 [==============================] - 14s 141ms/step - loss: 0.2623\n",
      "Epoch 64/100\n",
      "96/96 [==============================] - 14s 142ms/step - loss: 0.2647\n",
      "Epoch 65/100\n",
      "96/96 [==============================] - 14s 142ms/step - loss: 0.2505\n",
      "Epoch 66/100\n",
      "96/96 [==============================] - 13s 140ms/step - loss: 0.2538\n",
      "Epoch 67/100\n",
      "96/96 [==============================] - 14s 143ms/step - loss: 0.2366\n",
      "Epoch 68/100\n",
      "96/96 [==============================] - 14s 142ms/step - loss: 0.2415\n",
      "Epoch 69/100\n",
      "96/96 [==============================] - 14s 143ms/step - loss: 0.2380\n",
      "Epoch 70/100\n",
      "96/96 [==============================] - 14s 143ms/step - loss: 0.2453\n",
      "Epoch 71/100\n",
      "96/96 [==============================] - 14s 143ms/step - loss: 0.2321\n",
      "Epoch 72/100\n",
      "96/96 [==============================] - 14s 143ms/step - loss: 0.2390\n",
      "Epoch 73/100\n",
      "96/96 [==============================] - 14s 144ms/step - loss: 0.2393\n",
      "Epoch 74/100\n",
      "96/96 [==============================] - 14s 144ms/step - loss: 0.2400\n",
      "Epoch 75/100\n",
      "96/96 [==============================] - 14s 146ms/step - loss: 0.2331\n",
      "Epoch 76/100\n",
      "96/96 [==============================] - 14s 145ms/step - loss: 0.2418\n",
      "Epoch 77/100\n",
      "96/96 [==============================] - 14s 142ms/step - loss: 0.2329\n",
      "Epoch 78/100\n",
      "96/96 [==============================] - 14s 145ms/step - loss: 0.2450\n",
      "Epoch 79/100\n",
      "96/96 [==============================] - 14s 146ms/step - loss: 0.2371\n",
      "Epoch 80/100\n",
      "96/96 [==============================] - 14s 147ms/step - loss: 0.2276\n",
      "Epoch 81/100\n",
      "96/96 [==============================] - 14s 146ms/step - loss: 0.2262\n",
      "Epoch 82/100\n",
      "96/96 [==============================] - 14s 148ms/step - loss: 0.2176\n",
      "Epoch 83/100\n",
      "96/96 [==============================] - 14s 149ms/step - loss: 0.2349\n",
      "Epoch 84/100\n",
      "96/96 [==============================] - 14s 147ms/step - loss: 0.2370\n",
      "Epoch 85/100\n",
      "96/96 [==============================] - 14s 147ms/step - loss: 0.2359\n",
      "Epoch 86/100\n",
      "96/96 [==============================] - 14s 148ms/step - loss: 0.2402\n",
      "Epoch 87/100\n",
      "96/96 [==============================] - 14s 148ms/step - loss: 0.2138\n",
      "Epoch 88/100\n",
      "96/96 [==============================] - 14s 147ms/step - loss: 0.2222\n",
      "Epoch 89/100\n",
      "96/96 [==============================] - 14s 149ms/step - loss: 0.2210\n",
      "Epoch 90/100\n",
      "96/96 [==============================] - 14s 149ms/step - loss: 0.2243\n",
      "Epoch 91/100\n",
      "96/96 [==============================] - 48s 501ms/step - loss: 0.2263\n",
      "Epoch 92/100\n",
      "96/96 [==============================] - 14s 149ms/step - loss: 0.2291\n",
      "Epoch 93/100\n",
      "96/96 [==============================] - 14s 148ms/step - loss: 0.2140\n",
      "Epoch 94/100\n",
      "96/96 [==============================] - 14s 149ms/step - loss: 0.2201\n",
      "Epoch 95/100\n",
      "96/96 [==============================] - 14s 150ms/step - loss: 0.2202\n",
      "Epoch 96/100\n",
      "96/96 [==============================] - 14s 149ms/step - loss: 0.2228\n",
      "Epoch 97/100\n",
      "96/96 [==============================] - 14s 149ms/step - loss: 0.2126\n",
      "Epoch 98/100\n",
      "96/96 [==============================] - 14s 151ms/step - loss: 0.2160\n",
      "Epoch 99/100\n",
      "96/96 [==============================] - 15s 151ms/step - loss: 0.2191\n",
      "Epoch 100/100\n",
      "96/96 [==============================] - 15s 155ms/step - loss: 0.2124\n"
     ]
    }
   ],
   "source": [
    "lstm1 = regression.fit(train_data_gen, epochs=100)"
   ]
  },
  {
   "cell_type": "code",
   "execution_count": 20,
   "metadata": {},
   "outputs": [
    {
     "name": "stdout",
     "output_type": "stream",
     "text": [
      "5208/5208 [==============================] - 36s 7ms/step - loss: 0.1854\n"
     ]
    },
    {
     "data": {
      "text/plain": [
       "0.1853596568107605"
      ]
     },
     "execution_count": 20,
     "metadata": {},
     "output_type": "execute_result"
    }
   ],
   "source": [
    "regression.evaluate(test_data_gen)"
   ]
  },
  {
   "cell_type": "code",
   "execution_count": 21,
   "metadata": {},
   "outputs": [
    {
     "name": "stdout",
     "output_type": "stream",
     "text": [
      "96/96 [==============================] - 6s 54ms/step\n"
     ]
    },
    {
     "data": {
      "text/plain": [
       "(12216, 1)"
      ]
     },
     "execution_count": 21,
     "metadata": {},
     "output_type": "execute_result"
    }
   ],
   "source": [
    "train_predict = regression.predict(train_data_gen)\n",
    "train_predict.shape"
   ]
  },
  {
   "cell_type": "code",
   "execution_count": 22,
   "metadata": {},
   "outputs": [
    {
     "name": "stdout",
     "output_type": "stream",
     "text": [
      "5208/5208 [==============================] - 34s 7ms/step\n"
     ]
    },
    {
     "data": {
      "text/plain": [
       "(5208, 1)"
      ]
     },
     "execution_count": 22,
     "metadata": {},
     "output_type": "execute_result"
    }
   ],
   "source": [
    "test_predict = regression.predict(test_data_gen)\n",
    "test_predict.shape"
   ]
  },
  {
   "cell_type": "code",
   "execution_count": 23,
   "metadata": {},
   "outputs": [],
   "source": [
    "# invert predictions, scale values back to real index\n",
    "train_predict = scaler.inverse_transform(train_predict)\n",
    "test_redict = scaler.inverse_transform(test_predict)\n",
    "dataset_y = scaler.inverse_transform(data_y)"
   ]
  },
  {
   "cell_type": "code",
   "execution_count": 24,
   "metadata": {},
   "outputs": [],
   "source": [
    "def get_y_from_generator(gen):\n",
    "    '''\n",
    "    Get all targets y from a TimeseriesGenerator instance.\n",
    "    '''\n",
    "    y = None\n",
    "    for i in range(len(gen)):\n",
    "        batch_y = gen[i][1]\n",
    "        if y is None:\n",
    "            y = batch_y\n",
    "        else:\n",
    "            y = np.append(y, batch_y)\n",
    "    y = y.reshape((-1,1))\n",
    "    print(y.shape)\n",
    "    return y"
   ]
  },
  {
   "cell_type": "code",
   "execution_count": 25,
   "metadata": {},
   "outputs": [
    {
     "name": "stdout",
     "output_type": "stream",
     "text": [
      "(12216, 1)\n",
      "(5208, 1)\n"
     ]
    }
   ],
   "source": [
    "train_Y = get_y_from_generator(train_data_gen)\n",
    "test_Y = get_y_from_generator(test_data_gen)\n",
    "train_Y = scaler.inverse_transform(train_Y)\n",
    "test_Y = scaler.inverse_transform(test_Y)"
   ]
  },
  {
   "cell_type": "code",
   "execution_count": 26,
   "metadata": {},
   "outputs": [
    {
     "name": "stdout",
     "output_type": "stream",
     "text": [
      "Train Score: 36.03 RMSE\n",
      "Test Score: 69.97 RMSE\n"
     ]
    }
   ],
   "source": [
    "# calculate root mean squared error\n",
    "train_score = math.sqrt(mean_squared_error(train_Y[:,0], train_predict[:,0]))\n",
    "print('Train Score: %.2f RMSE' % (train_score))\n",
    "test_score = math.sqrt(mean_squared_error(test_Y[:, 0], test_predict[:,0]))\n",
    "print('Test Score: %.2f RMSE' % (test_score))"
   ]
  },
  {
   "cell_type": "markdown",
   "metadata": {},
   "source": [
    "### 2.3. Plot the predictions"
   ]
  },
  {
   "cell_type": "code",
   "execution_count": 27,
   "metadata": {},
   "outputs": [],
   "source": [
    "# shift train predictions for plotting\n",
    "trainPredictPlot = np.empty_like(dataset_y)\n",
    "trainPredictPlot[:, :] = np.nan\n",
    "trainPredictPlot[look_back:len(train_predict)+look_back, :] = train_predict\n",
    "# Delta + previous close\n",
    "trainPredictPlot = trainPredictPlot + target[0:]\n",
    "\n",
    "\n",
    "# shift test predictions for plotting\n",
    "testPredictPlot = np.empty_like(dataset_y)\n",
    "testPredictPlot[:, :] = np.nan\n",
    "testPredictPlot[len(train_predict)+(look_back*2):len(dataset_y), :] = test_predict\n",
    "\n",
    "# Delta + previous close\n",
    "testPredictPlot = testPredictPlot + target[0:]\n"
   ]
  },
  {
   "cell_type": "code",
   "execution_count": 28,
   "metadata": {},
   "outputs": [
    {
     "data": {
      "image/png": "[encoded data removed]",
      "text/plain": [
       "<Figure size 640x480 with 1 Axes>"
      ]
     },
     "metadata": {},
     "output_type": "display_data"
    }
   ],
   "source": [
    "fig, ax = plt.subplots()\n",
    "ax.plot(dataset_y + target[0:], label='REAL')\n",
    "ax.plot(trainPredictPlot, label='train predict')\n",
    "ax.plot(testPredictPlot, label='test predict')\n",
    "\n",
    "legend = ax.legend(loc='upper right', shadow=True, fontsize='x-large')\n",
    "\n",
    "plt.show()"
   ]
  }
 ],
 "metadata": {
  "kernelspec": {
   "display_name": "Python 3",
   "language": "python",
   "name": "python3"
  },
  "language_info": {
   "codemirror_mode": {
    "name": "ipython",
    "version": 3
   },
   "file_extension": ".py",
   "mimetype": "text/x-python",
   "name": "python",
   "nbconvert_exporter": "python",
   "pygments_lexer": "ipython3",
   "version": "3.9.6"
  }
 },
 "nbformat": 4,
 "nbformat_minor": 2
}
