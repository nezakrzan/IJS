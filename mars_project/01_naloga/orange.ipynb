{
 "cells": [
  {
   "cell_type": "code",
   "execution_count": 1,
   "metadata": {},
   "outputs": [],
   "source": [
    "import Orange\n",
    "from Orange.data import *\n",
    "from Orange.regression import SVRLearner, TreeLearner, KNNRegressionLearner\n",
    "from Orange.modelling import Fitter, SklFitter\n",
    "from Orange.evaluation import CrossValidation\n",
    "\n",
    "import pandas as pd\n",
    "import numpy as np"
   ]
  },
  {
   "cell_type": "code",
   "execution_count": 2,
   "metadata": {},
   "outputs": [],
   "source": [
    "df = pd.read_csv(\"data60.csv\", low_memory=False)\n",
    "\n",
    "# replace ? for NAN\n",
    "df = df.replace('?', np.nan)\n",
    "\n",
    "# Delete rows with missing values\n",
    "df = df.dropna()\n",
    "df = df.astype(float)\n",
    "\n",
    "df = df.sample(n = 1000, random_state = 42)\n",
    "\n",
    "target_columns = df.iloc[:,-33:].columns\n",
    "y = df.loc[:, target_columns].astype(float).sum(axis=1)\n",
    "df.drop(columns=target_columns, inplace=True)"
   ]
  },
  {
   "cell_type": "code",
   "execution_count": 3,
   "metadata": {},
   "outputs": [],
   "source": [
    "data = Table(\"data_sum\")\n",
    "#data.domain.class_var = data.domain[\"sum\"]"
   ]
  },
  {
   "cell_type": "code",
   "execution_count": 4,
   "metadata": {},
   "outputs": [],
   "source": [
    "# from attributes/features to class_var/target\n",
    "domain = Domain(data.domain.attributes[0:484], data.domain.attributes[485])\n",
    "data = data.transform(domain)"
   ]
  },
  {
   "cell_type": "code",
   "execution_count": 5,
   "metadata": {},
   "outputs": [],
   "source": [
    "# models\n",
    "models = [Orange.regression.TreeLearner(max_depth = 5, min_samples_split = 20, min_samples_leaf = 10),\n",
    "          Orange.regression.knn.KNNRegressionLearner(n_neighbors = 10, weights = \"distance\"),\n",
    "          Orange.regression.svm.SVRLearner(kernel = 'rbf', epsilon = 0.01)]\n",
    "          #Orange.regression.NNRegressionLearner(hidden_layer_sizes=(10,10), alpha = 0.01, max_iter = 100)]"
   ]
  },
  {
   "cell_type": "code",
   "execution_count": null,
   "metadata": {},
   "outputs": [],
   "source": [
    "repeats = 10\n",
    "rez = {}\n",
    "\n",
    "for i in range(repeats):\n",
    "    train_data, test_data = Orange.evaluation.testing.sample(data, n=0.7)\n",
    "\n",
    "    for j in models:\n",
    "        model = j(train_data)\n",
    "        results = Orange.evaluation.testing.TestOnTestData(train_data, test_data, [lambda testdata: model])\n",
    "        score = Orange.evaluation.RMSE(results)\n",
    "        \n",
    "        col_name = f\"Model_{j}\"\n",
    "        \n",
    "        if col_name not in rez:\n",
    "            rez[col_name] = []\n",
    "\n",
    "        rez[col_name].append(score)\n",
    "    "
   ]
  },
  {
   "cell_type": "code",
   "execution_count": null,
   "metadata": {},
   "outputs": [],
   "source": [
    "rezultati = pd.DataFrame(rez)\n",
    "\n",
    "column_names = {rezultati.columns[0]: 'DesisionTreeRegressor_rmse',\n",
    "                rezultati.columns[1]: 'SVR_rmse',\n",
    "                rezultati.columns[2]: 'KNeighborsRegressor_rmse'}\n",
    "                #rezultati.columns[3]: 'MLPRegressor_mse'}\n",
    "\n",
    "rezultati = rezultati.rename(columns=column_names)\n",
    "rezultati.to_csv('rezultati_orange.csv', index=False)\n",
    "rezultati\n"
   ]
  },
  {
   "cell_type": "code",
   "execution_count": 15,
   "metadata": {},
   "outputs": [
    {
     "data": {
      "text/html": [
       "<div>\n",
       "<style scoped>\n",
       "    .dataframe tbody tr th:only-of-type {\n",
       "        vertical-align: middle;\n",
       "    }\n",
       "\n",
       "    .dataframe tbody tr th {\n",
       "        vertical-align: top;\n",
       "    }\n",
       "\n",
       "    .dataframe thead th {\n",
       "        text-align: right;\n",
       "    }\n",
       "</style>\n",
       "<table border=\"1\" class=\"dataframe\">\n",
       "  <thead>\n",
       "    <tr style=\"text-align: right;\">\n",
       "      <th></th>\n",
       "      <th>DesisionTreeRegressor_rmse</th>\n",
       "      <th>SVR_rmse</th>\n",
       "      <th>KNeighborsRegressor_rmse</th>\n",
       "    </tr>\n",
       "  </thead>\n",
       "  <tbody>\n",
       "    <tr>\n",
       "      <th>0</th>\n",
       "      <td>0.651240</td>\n",
       "      <td>0.633560</td>\n",
       "      <td>0.472959</td>\n",
       "    </tr>\n",
       "    <tr>\n",
       "      <th>1</th>\n",
       "      <td>0.653405</td>\n",
       "      <td>0.651219</td>\n",
       "      <td>0.485171</td>\n",
       "    </tr>\n",
       "    <tr>\n",
       "      <th>2</th>\n",
       "      <td>0.644658</td>\n",
       "      <td>0.634417</td>\n",
       "      <td>0.477224</td>\n",
       "    </tr>\n",
       "    <tr>\n",
       "      <th>3</th>\n",
       "      <td>0.649949</td>\n",
       "      <td>0.630879</td>\n",
       "      <td>0.470769</td>\n",
       "    </tr>\n",
       "    <tr>\n",
       "      <th>4</th>\n",
       "      <td>0.639771</td>\n",
       "      <td>0.628698</td>\n",
       "      <td>0.474737</td>\n",
       "    </tr>\n",
       "    <tr>\n",
       "      <th>...</th>\n",
       "      <td>...</td>\n",
       "      <td>...</td>\n",
       "      <td>...</td>\n",
       "    </tr>\n",
       "    <tr>\n",
       "      <th>95</th>\n",
       "      <td>0.651547</td>\n",
       "      <td>0.658797</td>\n",
       "      <td>0.489820</td>\n",
       "    </tr>\n",
       "    <tr>\n",
       "      <th>96</th>\n",
       "      <td>0.654151</td>\n",
       "      <td>0.625387</td>\n",
       "      <td>0.472107</td>\n",
       "    </tr>\n",
       "    <tr>\n",
       "      <th>97</th>\n",
       "      <td>0.643795</td>\n",
       "      <td>0.629808</td>\n",
       "      <td>0.483937</td>\n",
       "    </tr>\n",
       "    <tr>\n",
       "      <th>98</th>\n",
       "      <td>0.649502</td>\n",
       "      <td>0.642989</td>\n",
       "      <td>0.483686</td>\n",
       "    </tr>\n",
       "    <tr>\n",
       "      <th>99</th>\n",
       "      <td>0.649176</td>\n",
       "      <td>0.633357</td>\n",
       "      <td>0.488479</td>\n",
       "    </tr>\n",
       "  </tbody>\n",
       "</table>\n",
       "<p>100 rows × 3 columns</p>\n",
       "</div>"
      ],
      "text/plain": [
       "    DesisionTreeRegressor_rmse  SVR_rmse  KNeighborsRegressor_rmse\n",
       "0                     0.651240  0.633560                  0.472959\n",
       "1                     0.653405  0.651219                  0.485171\n",
       "2                     0.644658  0.634417                  0.477224\n",
       "3                     0.649949  0.630879                  0.470769\n",
       "4                     0.639771  0.628698                  0.474737\n",
       "..                         ...       ...                       ...\n",
       "95                    0.651547  0.658797                  0.489820\n",
       "96                    0.654151  0.625387                  0.472107\n",
       "97                    0.643795  0.629808                  0.483937\n",
       "98                    0.649502  0.642989                  0.483686\n",
       "99                    0.649176  0.633357                  0.488479\n",
       "\n",
       "[100 rows x 3 columns]"
      ]
     },
     "execution_count": 15,
     "metadata": {},
     "output_type": "execute_result"
    }
   ],
   "source": [
    "rezultati = pd.read_csv(\"rezultati_orange.csv\", header=0)\n",
    "rezultati\n"
   ]
  },
  {
   "cell_type": "code",
   "execution_count": 17,
   "metadata": {},
   "outputs": [
    {
     "data": {
      "text/html": [
       "<div>\n",
       "<style scoped>\n",
       "    .dataframe tbody tr th:only-of-type {\n",
       "        vertical-align: middle;\n",
       "    }\n",
       "\n",
       "    .dataframe tbody tr th {\n",
       "        vertical-align: top;\n",
       "    }\n",
       "\n",
       "    .dataframe thead th {\n",
       "        text-align: right;\n",
       "    }\n",
       "</style>\n",
       "<table border=\"1\" class=\"dataframe\">\n",
       "  <thead>\n",
       "    <tr style=\"text-align: right;\">\n",
       "      <th></th>\n",
       "      <th>DesisionTreeRegressor_rmse</th>\n",
       "      <th>SVR_rmse</th>\n",
       "      <th>KNeighborsRegressor_rmse</th>\n",
       "    </tr>\n",
       "  </thead>\n",
       "  <tbody>\n",
       "    <tr>\n",
       "      <th>mean</th>\n",
       "      <td>0.324437</td>\n",
       "      <td>0.319091</td>\n",
       "      <td>0.239935</td>\n",
       "    </tr>\n",
       "    <tr>\n",
       "      <th>var</th>\n",
       "      <td>0.210376</td>\n",
       "      <td>0.203548</td>\n",
       "      <td>0.115092</td>\n",
       "    </tr>\n",
       "  </tbody>\n",
       "</table>\n",
       "</div>"
      ],
      "text/plain": [
       "      DesisionTreeRegressor_rmse  SVR_rmse  KNeighborsRegressor_rmse\n",
       "mean                    0.324437  0.319091                  0.239935\n",
       "var                     0.210376  0.203548                  0.115092"
      ]
     },
     "execution_count": 17,
     "metadata": {},
     "output_type": "execute_result"
    }
   ],
   "source": [
    "rezultati = rezultati[['DesisionTreeRegressor_rmse',\n",
    "                                     'SVR_rmse',\n",
    "                                     'KNeighborsRegressor_rmse']].agg(['mean', 'var']).round(7)\n",
    "\n",
    "rezultati\n"
   ]
  },
  {
   "cell_type": "code",
   "execution_count": 6,
   "metadata": {},
   "outputs": [
    {
     "name": "stderr",
     "output_type": "stream",
     "text": [
      "/var/folders/bv/jzlzr1zd4z7bc7wnb1vbjb5w0000gn/T/ipykernel_7030/4048042573.py:7: DeprecationWarning: calling Validation's constructor with data and learners is deprecated;\n",
      "construct an instance and call it\n",
      "  results = Orange.evaluation.testing.CrossValidation(data, [j], k = 3)\n",
      "/var/folders/bv/jzlzr1zd4z7bc7wnb1vbjb5w0000gn/T/ipykernel_7030/4048042573.py:7: DeprecationWarning: calling Validation's constructor with data and learners is deprecated;\n",
      "construct an instance and call it\n",
      "  results = Orange.evaluation.testing.CrossValidation(data, [j], k = 3)\n",
      "/var/folders/bv/jzlzr1zd4z7bc7wnb1vbjb5w0000gn/T/ipykernel_7030/4048042573.py:7: DeprecationWarning: calling Validation's constructor with data and learners is deprecated;\n",
      "construct an instance and call it\n",
      "  results = Orange.evaluation.testing.CrossValidation(data, [j], k = 3)\n",
      "/var/folders/bv/jzlzr1zd4z7bc7wnb1vbjb5w0000gn/T/ipykernel_7030/4048042573.py:7: DeprecationWarning: calling Validation's constructor with data and learners is deprecated;\n",
      "construct an instance and call it\n",
      "  results = Orange.evaluation.testing.CrossValidation(data, [j], k = 3)\n",
      "/var/folders/bv/jzlzr1zd4z7bc7wnb1vbjb5w0000gn/T/ipykernel_7030/4048042573.py:7: DeprecationWarning: calling Validation's constructor with data and learners is deprecated;\n",
      "construct an instance and call it\n",
      "  results = Orange.evaluation.testing.CrossValidation(data, [j], k = 3)\n",
      "/var/folders/bv/jzlzr1zd4z7bc7wnb1vbjb5w0000gn/T/ipykernel_7030/4048042573.py:7: DeprecationWarning: calling Validation's constructor with data and learners is deprecated;\n",
      "construct an instance and call it\n",
      "  results = Orange.evaluation.testing.CrossValidation(data, [j], k = 3)\n"
     ]
    },
    {
     "ename": "KeyboardInterrupt",
     "evalue": "",
     "output_type": "error",
     "traceback": [
      "\u001b[0;31m---------------------------------------------------------------------------\u001b[0m",
      "\u001b[0;31mKeyboardInterrupt\u001b[0m                         Traceback (most recent call last)",
      "Cell \u001b[0;32mIn[6], line 7\u001b[0m\n\u001b[1;32m      4\u001b[0m \u001b[38;5;28;01mfor\u001b[39;00m i \u001b[38;5;129;01min\u001b[39;00m \u001b[38;5;28mrange\u001b[39m(repeats):\n\u001b[1;32m      6\u001b[0m     \u001b[38;5;28;01mfor\u001b[39;00m j \u001b[38;5;129;01min\u001b[39;00m models:\n\u001b[0;32m----> 7\u001b[0m         results \u001b[38;5;241m=\u001b[39m \u001b[43mOrange\u001b[49m\u001b[38;5;241;43m.\u001b[39;49m\u001b[43mevaluation\u001b[49m\u001b[38;5;241;43m.\u001b[39;49m\u001b[43mtesting\u001b[49m\u001b[38;5;241;43m.\u001b[39;49m\u001b[43mCrossValidation\u001b[49m\u001b[43m(\u001b[49m\u001b[43mdata\u001b[49m\u001b[43m,\u001b[49m\u001b[43m \u001b[49m\u001b[43m[\u001b[49m\u001b[43mj\u001b[49m\u001b[43m]\u001b[49m\u001b[43m,\u001b[49m\u001b[43m \u001b[49m\u001b[43mk\u001b[49m\u001b[43m \u001b[49m\u001b[38;5;241;43m=\u001b[39;49m\u001b[43m \u001b[49m\u001b[38;5;241;43m3\u001b[39;49m\u001b[43m)\u001b[49m \n\u001b[1;32m      8\u001b[0m         score \u001b[38;5;241m=\u001b[39m Orange\u001b[38;5;241m.\u001b[39mevaluation\u001b[38;5;241m.\u001b[39mRMSE(results)\n\u001b[1;32m     10\u001b[0m         col_name \u001b[38;5;241m=\u001b[39m \u001b[38;5;124mf\u001b[39m\u001b[38;5;124m\"\u001b[39m\u001b[38;5;124mModel_\u001b[39m\u001b[38;5;132;01m{\u001b[39;00mj\u001b[38;5;132;01m}\u001b[39;00m\u001b[38;5;124m\"\u001b[39m\n",
      "File \u001b[0;32m~/Library/Python/3.9/lib/python/site-packages/Orange/evaluation/testing.py:416\u001b[0m, in \u001b[0;36mValidation.__new__\u001b[0;34m(cls, data, learners, preprocessor, test_data, callback, store_data, store_models, n_jobs, **kwargs)\u001b[0m\n\u001b[1;32m    414\u001b[0m \u001b[38;5;28;01melse\u001b[39;00m:\n\u001b[1;32m    415\u001b[0m     test_data_kwargs \u001b[38;5;241m=\u001b[39m {}\n\u001b[0;32m--> 416\u001b[0m \u001b[38;5;28;01mreturn\u001b[39;00m \u001b[38;5;28;43mself\u001b[39;49m\u001b[43m(\u001b[49m\u001b[43mdata\u001b[49m\u001b[43m,\u001b[49m\u001b[43m \u001b[49m\u001b[43mlearners\u001b[49m\u001b[38;5;241;43m=\u001b[39;49m\u001b[43mlearners\u001b[49m\u001b[43m,\u001b[49m\u001b[43m \u001b[49m\u001b[43mpreprocessor\u001b[49m\u001b[38;5;241;43m=\u001b[39;49m\u001b[43mpreprocessor\u001b[49m\u001b[43m,\u001b[49m\n\u001b[1;32m    417\u001b[0m \u001b[43m            \u001b[49m\u001b[43mcallback\u001b[49m\u001b[38;5;241;43m=\u001b[39;49m\u001b[43mcallback\u001b[49m\u001b[43m,\u001b[49m\u001b[43m \u001b[49m\u001b[38;5;241;43m*\u001b[39;49m\u001b[38;5;241;43m*\u001b[39;49m\u001b[43mtest_data_kwargs\u001b[49m\u001b[43m)\u001b[49m\n",
      "File \u001b[0;32m~/Library/Python/3.9/lib/python/site-packages/Orange/evaluation/testing.py:460\u001b[0m, in \u001b[0;36mValidation.__call__\u001b[0;34m(self, data, learners, preprocessor, callback)\u001b[0m\n\u001b[1;32m    458\u001b[0m parts \u001b[38;5;241m=\u001b[39m np\u001b[38;5;241m.\u001b[39mlinspace(\u001b[38;5;241m.0\u001b[39m, \u001b[38;5;241m.99\u001b[39m, \u001b[38;5;28mlen\u001b[39m(learners) \u001b[38;5;241m*\u001b[39m \u001b[38;5;28mlen\u001b[39m(indices) \u001b[38;5;241m+\u001b[39m \u001b[38;5;241m1\u001b[39m)[\u001b[38;5;241m1\u001b[39m:]\n\u001b[1;32m    459\u001b[0m \u001b[38;5;28;01mfor\u001b[39;00m progress, part \u001b[38;5;129;01min\u001b[39;00m \u001b[38;5;28mzip\u001b[39m(parts, args_iter):\n\u001b[0;32m--> 460\u001b[0m     part_results\u001b[38;5;241m.\u001b[39mappend(\u001b[43m_mp_worker\u001b[49m\u001b[43m(\u001b[49m\u001b[38;5;241;43m*\u001b[39;49m\u001b[43m(\u001b[49m\u001b[43mpart\u001b[49m\u001b[43m \u001b[49m\u001b[38;5;241;43m+\u001b[39;49m\u001b[43m \u001b[49m\u001b[43m(\u001b[49m\u001b[43m)\u001b[49m\u001b[43m)\u001b[49m\u001b[43m)\u001b[49m)\n\u001b[1;32m    461\u001b[0m     callback(progress)\n\u001b[1;32m    462\u001b[0m callback(\u001b[38;5;241m1\u001b[39m)\n",
      "File \u001b[0;32m~/Library/Python/3.9/lib/python/site-packages/Orange/evaluation/testing.py:44\u001b[0m, in \u001b[0;36m_mp_worker\u001b[0;34m(fold_i, train_data, test_data, learner_i, learner, store_models)\u001b[0m\n\u001b[1;32m     42\u001b[0m         predicted, probs \u001b[38;5;241m=\u001b[39m model(test_data, model\u001b[38;5;241m.\u001b[39mValueProbs)\n\u001b[1;32m     43\u001b[0m     \u001b[38;5;28;01melse\u001b[39;00m:\n\u001b[0;32m---> 44\u001b[0m         predicted \u001b[38;5;241m=\u001b[39m \u001b[43mmodel\u001b[49m\u001b[43m(\u001b[49m\u001b[43mtest_data\u001b[49m\u001b[43m,\u001b[49m\u001b[43m \u001b[49m\u001b[43mmodel\u001b[49m\u001b[38;5;241;43m.\u001b[39;49m\u001b[43mValue\u001b[49m\u001b[43m)\u001b[49m\n\u001b[1;32m     45\u001b[0m     test_time \u001b[38;5;241m=\u001b[39m time() \u001b[38;5;241m-\u001b[39m t0\n\u001b[1;32m     46\u001b[0m \u001b[38;5;66;03m# Different models can fail at any time raising any exception\u001b[39;00m\n",
      "File \u001b[0;32m~/Library/Python/3.9/lib/python/site-packages/Orange/base.py:452\u001b[0m, in \u001b[0;36mModel.__call__\u001b[0;34m(self, data, ret)\u001b[0m\n\u001b[1;32m    450\u001b[0m     backmappers, n_values \u001b[38;5;241m=\u001b[39m \u001b[38;5;28mself\u001b[39m\u001b[38;5;241m.\u001b[39mget_backmappers(data)\n\u001b[1;32m    451\u001b[0m     data \u001b[38;5;241m=\u001b[39m \u001b[38;5;28mself\u001b[39m\u001b[38;5;241m.\u001b[39mdata_to_model_domain(data)\n\u001b[0;32m--> 452\u001b[0m     prediction \u001b[38;5;241m=\u001b[39m \u001b[38;5;28;43mself\u001b[39;49m\u001b[38;5;241;43m.\u001b[39;49m\u001b[43mpredict_storage\u001b[49m\u001b[43m(\u001b[49m\u001b[43mdata\u001b[49m\u001b[43m)\u001b[49m\n\u001b[1;32m    453\u001b[0m \u001b[38;5;28;01melif\u001b[39;00m \u001b[38;5;28misinstance\u001b[39m(data, (\u001b[38;5;28mlist\u001b[39m, \u001b[38;5;28mtuple\u001b[39m)):\n\u001b[1;32m    454\u001b[0m     data \u001b[38;5;241m=\u001b[39m Table\u001b[38;5;241m.\u001b[39mfrom_list(\u001b[38;5;28mself\u001b[39m\u001b[38;5;241m.\u001b[39moriginal_domain, data)\n",
      "File \u001b[0;32m~/Library/Python/3.9/lib/python/site-packages/Orange/base.py:240\u001b[0m, in \u001b[0;36mModel.predict_storage\u001b[0;34m(self, data)\u001b[0m\n\u001b[1;32m    238\u001b[0m \u001b[38;5;28;01mdef\u001b[39;00m \u001b[38;5;21mpredict_storage\u001b[39m(\u001b[38;5;28mself\u001b[39m, data):\n\u001b[1;32m    239\u001b[0m     \u001b[38;5;28;01mif\u001b[39;00m \u001b[38;5;28misinstance\u001b[39m(data, Storage):\n\u001b[0;32m--> 240\u001b[0m         \u001b[38;5;28;01mreturn\u001b[39;00m \u001b[38;5;28;43mself\u001b[39;49m\u001b[38;5;241;43m.\u001b[39;49m\u001b[43mpredict\u001b[49m\u001b[43m(\u001b[49m\u001b[43mdata\u001b[49m\u001b[38;5;241;43m.\u001b[39;49m\u001b[43mX\u001b[49m\u001b[43m)\u001b[49m\n\u001b[1;32m    241\u001b[0m     \u001b[38;5;28;01melif\u001b[39;00m \u001b[38;5;28misinstance\u001b[39m(data, Instance):\n\u001b[1;32m    242\u001b[0m         \u001b[38;5;28;01mreturn\u001b[39;00m \u001b[38;5;28mself\u001b[39m\u001b[38;5;241m.\u001b[39mpredict(np\u001b[38;5;241m.\u001b[39matleast_2d(data\u001b[38;5;241m.\u001b[39mx))\n",
      "File \u001b[0;32m~/Library/Python/3.9/lib/python/site-packages/Orange/base.py:510\u001b[0m, in \u001b[0;36mSklModel.predict\u001b[0;34m(self, X)\u001b[0m\n\u001b[1;32m    509\u001b[0m \u001b[38;5;28;01mdef\u001b[39;00m \u001b[38;5;21mpredict\u001b[39m(\u001b[38;5;28mself\u001b[39m, X):\n\u001b[0;32m--> 510\u001b[0m     value \u001b[38;5;241m=\u001b[39m \u001b[38;5;28;43mself\u001b[39;49m\u001b[38;5;241;43m.\u001b[39;49m\u001b[43mskl_model\u001b[49m\u001b[38;5;241;43m.\u001b[39;49m\u001b[43mpredict\u001b[49m\u001b[43m(\u001b[49m\u001b[43mX\u001b[49m\u001b[43m)\u001b[49m\n\u001b[1;32m    511\u001b[0m     \u001b[38;5;66;03m# SVM has probability attribute which defines if method compute probs\u001b[39;00m\n\u001b[1;32m    512\u001b[0m     has_prob_attr \u001b[38;5;241m=\u001b[39m \u001b[38;5;28mhasattr\u001b[39m(\u001b[38;5;28mself\u001b[39m\u001b[38;5;241m.\u001b[39mskl_model, \u001b[38;5;124m\"\u001b[39m\u001b[38;5;124mprobability\u001b[39m\u001b[38;5;124m\"\u001b[39m)\n",
      "File \u001b[0;32m~/Library/Python/3.9/lib/python/site-packages/sklearn/svm/_base.py:433\u001b[0m, in \u001b[0;36mBaseLibSVM.predict\u001b[0;34m(self, X)\u001b[0m\n\u001b[1;32m    431\u001b[0m X \u001b[38;5;241m=\u001b[39m \u001b[38;5;28mself\u001b[39m\u001b[38;5;241m.\u001b[39m_validate_for_predict(X)\n\u001b[1;32m    432\u001b[0m predict \u001b[38;5;241m=\u001b[39m \u001b[38;5;28mself\u001b[39m\u001b[38;5;241m.\u001b[39m_sparse_predict \u001b[38;5;28;01mif\u001b[39;00m \u001b[38;5;28mself\u001b[39m\u001b[38;5;241m.\u001b[39m_sparse \u001b[38;5;28;01melse\u001b[39;00m \u001b[38;5;28mself\u001b[39m\u001b[38;5;241m.\u001b[39m_dense_predict\n\u001b[0;32m--> 433\u001b[0m \u001b[38;5;28;01mreturn\u001b[39;00m \u001b[43mpredict\u001b[49m\u001b[43m(\u001b[49m\u001b[43mX\u001b[49m\u001b[43m)\u001b[49m\n",
      "File \u001b[0;32m~/Library/Python/3.9/lib/python/site-packages/sklearn/svm/_base.py:452\u001b[0m, in \u001b[0;36mBaseLibSVM._dense_predict\u001b[0;34m(self, X)\u001b[0m\n\u001b[1;32m    444\u001b[0m         \u001b[38;5;28;01mraise\u001b[39;00m \u001b[38;5;167;01mValueError\u001b[39;00m(\n\u001b[1;32m    445\u001b[0m             \u001b[38;5;124m\"\u001b[39m\u001b[38;5;124mX.shape[1] = \u001b[39m\u001b[38;5;132;01m%d\u001b[39;00m\u001b[38;5;124m should be equal to \u001b[39m\u001b[38;5;132;01m%d\u001b[39;00m\u001b[38;5;124m, \u001b[39m\u001b[38;5;124m\"\u001b[39m\n\u001b[1;32m    446\u001b[0m             \u001b[38;5;124m\"\u001b[39m\u001b[38;5;124mthe number of samples at training time\u001b[39m\u001b[38;5;124m\"\u001b[39m\n\u001b[1;32m    447\u001b[0m             \u001b[38;5;241m%\u001b[39m (X\u001b[38;5;241m.\u001b[39mshape[\u001b[38;5;241m1\u001b[39m], \u001b[38;5;28mself\u001b[39m\u001b[38;5;241m.\u001b[39mshape_fit_[\u001b[38;5;241m0\u001b[39m])\n\u001b[1;32m    448\u001b[0m         )\n\u001b[1;32m    450\u001b[0m svm_type \u001b[38;5;241m=\u001b[39m LIBSVM_IMPL\u001b[38;5;241m.\u001b[39mindex(\u001b[38;5;28mself\u001b[39m\u001b[38;5;241m.\u001b[39m_impl)\n\u001b[0;32m--> 452\u001b[0m \u001b[38;5;28;01mreturn\u001b[39;00m \u001b[43mlibsvm\u001b[49m\u001b[38;5;241;43m.\u001b[39;49m\u001b[43mpredict\u001b[49m\u001b[43m(\u001b[49m\n\u001b[1;32m    453\u001b[0m \u001b[43m    \u001b[49m\u001b[43mX\u001b[49m\u001b[43m,\u001b[49m\n\u001b[1;32m    454\u001b[0m \u001b[43m    \u001b[49m\u001b[38;5;28;43mself\u001b[39;49m\u001b[38;5;241;43m.\u001b[39;49m\u001b[43msupport_\u001b[49m\u001b[43m,\u001b[49m\n\u001b[1;32m    455\u001b[0m \u001b[43m    \u001b[49m\u001b[38;5;28;43mself\u001b[39;49m\u001b[38;5;241;43m.\u001b[39;49m\u001b[43msupport_vectors_\u001b[49m\u001b[43m,\u001b[49m\n\u001b[1;32m    456\u001b[0m \u001b[43m    \u001b[49m\u001b[38;5;28;43mself\u001b[39;49m\u001b[38;5;241;43m.\u001b[39;49m\u001b[43m_n_support\u001b[49m\u001b[43m,\u001b[49m\n\u001b[1;32m    457\u001b[0m \u001b[43m    \u001b[49m\u001b[38;5;28;43mself\u001b[39;49m\u001b[38;5;241;43m.\u001b[39;49m\u001b[43m_dual_coef_\u001b[49m\u001b[43m,\u001b[49m\n\u001b[1;32m    458\u001b[0m \u001b[43m    \u001b[49m\u001b[38;5;28;43mself\u001b[39;49m\u001b[38;5;241;43m.\u001b[39;49m\u001b[43m_intercept_\u001b[49m\u001b[43m,\u001b[49m\n\u001b[1;32m    459\u001b[0m \u001b[43m    \u001b[49m\u001b[38;5;28;43mself\u001b[39;49m\u001b[38;5;241;43m.\u001b[39;49m\u001b[43m_probA\u001b[49m\u001b[43m,\u001b[49m\n\u001b[1;32m    460\u001b[0m \u001b[43m    \u001b[49m\u001b[38;5;28;43mself\u001b[39;49m\u001b[38;5;241;43m.\u001b[39;49m\u001b[43m_probB\u001b[49m\u001b[43m,\u001b[49m\n\u001b[1;32m    461\u001b[0m \u001b[43m    \u001b[49m\u001b[43msvm_type\u001b[49m\u001b[38;5;241;43m=\u001b[39;49m\u001b[43msvm_type\u001b[49m\u001b[43m,\u001b[49m\n\u001b[1;32m    462\u001b[0m \u001b[43m    \u001b[49m\u001b[43mkernel\u001b[49m\u001b[38;5;241;43m=\u001b[39;49m\u001b[43mkernel\u001b[49m\u001b[43m,\u001b[49m\n\u001b[1;32m    463\u001b[0m \u001b[43m    \u001b[49m\u001b[43mdegree\u001b[49m\u001b[38;5;241;43m=\u001b[39;49m\u001b[38;5;28;43mself\u001b[39;49m\u001b[38;5;241;43m.\u001b[39;49m\u001b[43mdegree\u001b[49m\u001b[43m,\u001b[49m\n\u001b[1;32m    464\u001b[0m \u001b[43m    \u001b[49m\u001b[43mcoef0\u001b[49m\u001b[38;5;241;43m=\u001b[39;49m\u001b[38;5;28;43mself\u001b[39;49m\u001b[38;5;241;43m.\u001b[39;49m\u001b[43mcoef0\u001b[49m\u001b[43m,\u001b[49m\n\u001b[1;32m    465\u001b[0m \u001b[43m    \u001b[49m\u001b[43mgamma\u001b[49m\u001b[38;5;241;43m=\u001b[39;49m\u001b[38;5;28;43mself\u001b[39;49m\u001b[38;5;241;43m.\u001b[39;49m\u001b[43m_gamma\u001b[49m\u001b[43m,\u001b[49m\n\u001b[1;32m    466\u001b[0m \u001b[43m    \u001b[49m\u001b[43mcache_size\u001b[49m\u001b[38;5;241;43m=\u001b[39;49m\u001b[38;5;28;43mself\u001b[39;49m\u001b[38;5;241;43m.\u001b[39;49m\u001b[43mcache_size\u001b[49m\u001b[43m,\u001b[49m\n\u001b[1;32m    467\u001b[0m \u001b[43m\u001b[49m\u001b[43m)\u001b[49m\n",
      "\u001b[0;31mKeyboardInterrupt\u001b[0m: "
     ]
    }
   ],
   "source": [
    "repeats = 2\n",
    "rez_cv = {}\n",
    "\n",
    "for i in range(repeats):\n",
    "\n",
    "    for j in models:\n",
    "        results = Orange.evaluation.testing.CrossValidation(data, [j], k = 3, random_state = j) \n",
    "        score = Orange.evaluation.RMSE(results)\n",
    "        \n",
    "        col_name = f\"Model_{j}\"\n",
    "        \n",
    "        if col_name not in rez_cv:\n",
    "            rez_cv[col_name] = []\n",
    "\n",
    "        rez_cv[col_name].append(score)"
   ]
  },
  {
   "cell_type": "code",
   "execution_count": null,
   "metadata": {},
   "outputs": [],
   "source": [
    "rezultati_cv = pd.DataFrame(rez_cv)\n",
    "\n",
    "column_names = {rezultati_cv.columns[0]: 'DesisionTreeRegressor_rmse',\n",
    "                rezultati_cv.columns[1]: 'SVR_rmse',\n",
    "                rezultati_cv.columns[2]: 'KNeighborsRegressor_rmse'}\n",
    "                #rezultati.columns[3]: 'MLPRegressor_mse'}\n",
    "\n",
    "rezultati_cv = rezultati_cv.rename(columns=column_names)\n",
    "rezultati_cv.to_csv('rezultati_cv_orange.csv', index=False)\n",
    "rezultati_cv"
   ]
  },
  {
   "cell_type": "code",
   "execution_count": null,
   "metadata": {},
   "outputs": [],
   "source": [
    "rezultati_cv = pd.DataFrame(rezultati_cv)[['DesisionTreeRegressor_rmse',\n",
    "                                           'SVR_rmse',\n",
    "                                           'KNeighborsRegressor_rmse']].agg(['mean', 'var']).round(7)\n",
    "\n",
    "rezultati_cv"
   ]
  }
 ],
 "metadata": {
  "kernelspec": {
   "display_name": "Python 3",
   "language": "python",
   "name": "python3"
  },
  "language_info": {
   "codemirror_mode": {
    "name": "ipython",
    "version": 3
   },
   "file_extension": ".py",
   "mimetype": "text/x-python",
   "name": "python",
   "nbconvert_exporter": "python",
   "pygments_lexer": "ipython3",
   "version": "3.9.6"
  }
 },
 "nbformat": 4,
 "nbformat_minor": 2
}
